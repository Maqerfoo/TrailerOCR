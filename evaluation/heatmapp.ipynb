{
 "cells": [
  {
   "cell_type": "code",
   "execution_count": 1,
   "id": "2ba192bc",
   "metadata": {},
   "outputs": [],
   "source": [
    "import os\n",
    "from zipfile import *\n",
    "import shutil\n",
    "import json\n",
    "import pandas as pd\n",
    "import numpy as np"
   ]
  },
  {
   "cell_type": "code",
   "execution_count": 2,
   "id": "22f81ff4",
   "metadata": {},
   "outputs": [
    {
     "name": "stdout",
     "output_type": "stream",
     "text": [
      "getting results for FOTS\n",
      "getting results for CRAFT\n",
      "getting results for Pixel_link\n",
      "getting results for DB_resnet50\n",
      "getting results for Charnet\n",
      "getting results for textfusenet\n",
      "getting results for EAST\n",
      "getting results for DB_resnet18\n"
     ]
    }
   ],
   "source": [
    "models = os.listdir('output')\n",
    "factors = np.array([\"Blur\", \"Condition\", \"Contrast\", \"Curved\", \"FontSize\", \"FontStyle\", \"Noise\", \"Resolution\", \"Ripple\", \"Rotated\", \"SkewLevel\"])\n",
    "df = pd.DataFrame(columns = factors)\n",
    "for model in models:\n",
    "    path = os.path.join('output/',model,'results.zip')\n",
    "    source_results = ZipFile(path, 'r')\n",
    "    target_dir = os.path.join('tmpresults/', model)\n",
    "    source_results.extractall(target_dir)\n",
    "    print(\"getting results for \" + model)\n",
    "    results_filelist = os.listdir(target_dir)\n",
    "    results_filelist.remove('method.json')\n",
    "    factor_counts = pd.Series(index=factors, dtype=\"int8\")\n",
    "    factor_sums = pd.Series(index=factors, dtype=\"float64\").fillna(0)\n",
    "    for file in results_filelist:\n",
    "        factor = file.split(\"_\")[0]\n",
    "        factor_counts[factor] += 1\n",
    "        file_path = os.path.join(target_dir,file)\n",
    "        f = open(file_path, 'r')\n",
    "        result = json.loads(f.read())\n",
    "        f.close()\n",
    "        factor_sums[factor] += result[\"hmean\"]\n",
    "    averages = factor_sums / factor_counts\n",
    "    averages = averages.rename(model)\n",
    "    averages = averages.to_frame()\n",
    "    averages = averages.transpose()\n",
    "    df = df.append(averages)\n"
   ]
  },
  {
   "cell_type": "code",
   "execution_count": 4,
   "id": "c7c41eef",
   "metadata": {
    "scrolled": false
   },
   "outputs": [
    {
     "data": {
      "application/vnd.jupyter.widget-view+json": {
       "model_id": "7df97c7180924659ab9afa8d17ccbb46",
       "version_major": 2,
       "version_minor": 0
      },
      "text/plain": [
       "VBox(children=(FigureWidget({\n",
       "    'data': [{'colorscale': [[0.0, 'rgb(3, 35, 51)'], [0.09090909090909091,\n",
       "    …"
      ]
     },
     "metadata": {},
     "output_type": "display_data"
    }
   ],
   "source": [
    "import plotly.express as px\n",
    "import plotly.graph_objects as go\n",
    "from ipywidgets import Output, VBox\n",
    "from IPython.display import clear_output\n",
    "import cv2\n",
    "from matplotlib import pyplot as plt\n",
    "import matplotlib.gridspec as gridspec\n",
    "from ipywidgets.widgets.interaction import show_inline_matplotlib_plots\n",
    "%matplotlib widget\n",
    "        \n",
    "\n",
    "def show_factor(x,y):\n",
    "    print(\"rendering images... This might take a while\")\n",
    "    model = df.index[x]\n",
    "    factor = df.columns[y]\n",
    "    image_path = os.path.join(os.pardir,\"IVtext\")\n",
    "    image_files = os.listdir(image_path)\n",
    "    image_files.sort()\n",
    "    clear_output()\n",
    "    for image in [x for x in image_files if x.startswith(factor)]:\n",
    "        img1 = cv2.imread(os.path.join(image_path,image))\n",
    "        img2 = cv2.imread(os.path.join(image_path,image))\n",
    "        json_file = open(os.path.join(\"tmpresults\",model,os.path.splitext(image)[0]) +\".txt.json\", \"r\")\n",
    "        result = json.loads(json_file.read())\n",
    "        gt_points = result[\"gtPolPoints\"]\n",
    "        det_points = result[\"detPolPoints\"]\n",
    "        for box in gt_points:\n",
    "            box = list(map(np.int32,box))\n",
    "            x1 = min(box[0::2])\n",
    "            y1 = min(box[1::2])\n",
    "            x2 = max(box[0::2])\n",
    "            y2 = max(box[1::2])\n",
    "            cv2.rectangle(img1, (x1,y1), (x2,y2), (0,255,0), 4)\n",
    "        for box in det_points:\n",
    "            box = list(map(np.int32,box))\n",
    "            x1 = min(box[0::2])\n",
    "            y1 = min(box[1::2])\n",
    "            x2 = max(box[0::2])\n",
    "            y2 = max(box[1::2])\n",
    "            cv2.rectangle(img2, (x1,y1), (x2,y2), (0,0,255), 4)\n",
    "        f = plt.figure(figsize=(10,4))\n",
    "        f.suptitle(model + \": \" + image, fontsize=16)\n",
    "        #gs = gridspec.GridSpec(1, 2)\n",
    "        #gs.update(wspace=0.0025, hspace=0.05)\n",
    "        ax = f.add_subplot(121)\n",
    "        ax2 = f.add_subplot(122)\n",
    "        ax.imshow(img1)\n",
    "        ax.axis(\"off\")\n",
    "        ax.set_title(\"ground truth\")\n",
    "        ax2.imshow(img2)\n",
    "        ax2.axis(\"off\")\n",
    "        ax2.set_title(\"Prediction\")\n",
    "        ax2.text(0.5,-0.1, \"F-score: \" + str(result[\"hmean\"])[0:5], size=12, ha=\"center\", transform=ax2.transAxes)\n",
    "        plt.tight_layout(pad=0.001, w_pad=0.001, h_pad=1.0)\n",
    "        show_inline_matplotlib_plots()\n",
    "        \n",
    "\n",
    "out = Output()\n",
    "@out.capture(clear_output=True)\n",
    "def handle_click(trace, points, state):\n",
    "    x = points.point_inds[0][0]\n",
    "    y = points.point_inds[0][1]\n",
    "    show_factor(x,y)\n",
    "\n",
    "fig = go.FigureWidget()\n",
    "fig.add_heatmap(\n",
    "    x = df.columns, y=df.index, z=df,colorscale=\"thermal\")\n",
    "heatmapp = fig.data[0]\n",
    "\n",
    "fig.update_layout(height = 600, width = 900)\n",
    "\n",
    "\n",
    "\n",
    "heatmapp.on_click(handle_click)\n",
    "\n",
    "VBox([fig, out])\n"
   ]
  }
 ],
 "metadata": {
  "kernelspec": {
   "display_name": "Python 3",
   "language": "python",
   "name": "python3"
  },
  "language_info": {
   "codemirror_mode": {
    "name": "ipython",
    "version": 3
   },
   "file_extension": ".py",
   "mimetype": "text/x-python",
   "name": "python",
   "nbconvert_exporter": "python",
   "pygments_lexer": "ipython3",
   "version": "3.8.8"
  }
 },
 "nbformat": 4,
 "nbformat_minor": 5
}
